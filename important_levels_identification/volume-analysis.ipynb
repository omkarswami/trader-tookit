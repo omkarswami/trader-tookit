{
  "metadata": {
    "language_info": {
      "codemirror_mode": {
        "name": "python",
        "version": 3
      },
      "file_extension": ".py",
      "mimetype": "text/x-python",
      "name": "python",
      "nbconvert_exporter": "python",
      "pygments_lexer": "ipython3",
      "version": "3.8"
    },
    "kernelspec": {
      "name": "python",
      "display_name": "Python (Pyodide)",
      "language": "python"
    },
    "colab": {
      "provenance": []
    }
  },
  "nbformat_minor": 0,
  "nbformat": 4,
  "cells": [
    {
      "cell_type": "markdown",
      "source": [
        "# Notebook for analysing important price levels on a price-volume chart"
      ],
      "metadata": {
        "id": "hL7mFGSdb0mF"
      }
    },
    {
      "cell_type": "markdown",
      "source": [
        "Import dependencies first"
      ],
      "metadata": {
        "id": "fK4CzmJjb0mH"
      }
    },
    {
      "cell_type": "markdown",
      "source": [
        "#### Here we require :\n",
        "- Pandas : for csv file reading and dataframe operations\n",
        "- datetime : for basic date and time manipulation\n",
        "- matplotlib : for plotting important levels on the 2d chart\n",
        "- numpy : for basic array operations on price levels\n",
        "- sys : for taking command line arguments\n",
        "- os : for file input"
      ],
      "metadata": {
        "id": "FXTVlVnQb0mI"
      }
    },
    {
      "cell_type": "code",
      "source": [
        "import pandas as pd\n",
        "import datetime\n",
        "import matplotlib.pyplot as plt\n",
        "import numpy as np\n",
        "import sys\n",
        "import os"
      ],
      "metadata": {
        "id": "k44nAuM7b0mJ"
      },
      "execution_count": null,
      "outputs": []
    },
    {
      "cell_type": "markdown",
      "source": [
        "#### Function for converting price - volume dataframe on chart into price bands - volumes dataframe\n",
        "This function converts price volume candle stick data in to array of price ranges mapped with total volume of transactions that have closed in that price range. ***More candles closed in a particular range (price-band) more is the volume.*** Such high volume price bands are to be identified for important levels in the trading\n"
      ],
      "metadata": {
        "id": "W4GxTmhob0mN"
      }
    },
    {
      "cell_type": "code",
      "source": [
        "# function converts price volume dataframe into levels dataframe\n",
        "def get_delivery_profile(pv_dataframe):\n",
        "    ltp=pv_dataframe.iloc[-1,4]\n",
        "    percent_array=np.arange(-5.0,5.0,0.25)\n",
        "    print(percent_array)\n",
        "    levels_array=[]\n",
        "    for e in percent_array:\n",
        "        levels_array.append((ltp+(e/100)*ltp))\n",
        "    levels_array=sorted(levels_array)\n",
        "    profile_result_col=[\"Lower Level\",\"Upper Level\",\"Volume\",\"Label\"]\n",
        "    profile_result=pd.DataFrame(columns=profile_result_col)\n",
        "    i=0\n",
        "    while i < (len(levels_array)-1):\n",
        "        deliverable_total_records=pv_dataframe[(pv_dataframe[\"Close\"]>=levels_array[i])&(pv_dataframe[\"Close\"]<levels_array[i+1])]\n",
        "        deliverable_total=deliverable_total_records[\"Volume\"].sum()\n",
        "        label=str(percent_array[i])+'to'+str(percent_array[i+1])+'%'+\"(\"+str(round(levels_array[i],2))+\"-\"+str(round(levels_array[i+1],2))+\")\"\n",
        "        entry_row=[levels_array[i],levels_array[i+1],deliverable_total,label]\n",
        "        profile_result.loc[i]=entry_row\n",
        "        i=i+1\n",
        "    color_codes= get_color_codes(profile_result[\"Volume\"].tolist())\n",
        "    profile_result[\"Color Code\"]=color_codes\n",
        "    print(profile_result)\n",
        "    return profile_result\n"
      ],
      "metadata": {
        "id": "7z7zAbcEb0mO"
      },
      "execution_count": null,
      "outputs": []
    },
    {
      "cell_type": "markdown",
      "source": [
        "#### Function for getting color codes for price levels - volume data\n",
        "This function converts price band - volume data in to array of price bands mapped with color codes. The color codes mapped to a specific price range.***More the volume in darker the color, lesser the volume color is faded to that extent.***\n"
      ],
      "metadata": {
        "id": "h4rYPVlHb0mP"
      }
    },
    {
      "cell_type": "code",
      "source": [
        "def get_color_codes(volume_profile_array):\n",
        "    shades=['#ffffff','#eae7e8','#d5cfd2','#c1b7bc','#ac9fa6','#988890','#83707a','#6e5864','#5a404e','#452838','#311122']\n",
        "    color_codes=[]\n",
        "    min_del=min([i for i in delivery_profile_array if i > 0])\n",
        "    ratio_list=list(map(lambda x:x/min_del, volume_profile_array))\n",
        "    divisor=max(ratio_list)/10\n",
        "    mapped_range=list(map(lambda x:round(x/divisor),ratio_list))\n",
        "    color_codes=list(map(lambda x:shades[x],mapped_range))\n",
        "    print(color_codes)\n",
        "    return color_codes\n"
      ],
      "metadata": {
        "id": "LXy_H8vab0mQ"
      },
      "execution_count": null,
      "outputs": []
    },
    {
      "cell_type": "markdown",
      "source": [
        "#### Main code for running\n",
        "folder_path is the path where price volume data files are stored related to current file. Here path is \"/downloads\" means folder is in same path as ***current*** code/notebook with name ***downloads***"
      ],
      "metadata": {
        "id": "6NbSQ5ZHb0mR"
      }
    },
    {
      "cell_type": "code",
      "source": [
        "plt.style.use('dark_background')  #remove this line for using matplot lib regular theme\n",
        "folder_path=\"downloads/\"\n",
        "file_path=\"\" #initially blank\n"
      ],
      "metadata": {
        "id": "LrAQcuf8b0mS"
      },
      "execution_count": null,
      "outputs": []
    },
    {
      "cell_type": "markdown",
      "source": [
        "#### option has to be given from command line while running \n",
        "***option is filename of data file or part of filename if filename is RELIANCE-PRICE-VOL.csv use RELIANCE-PRICE-VOL.csv or RELIANCE if multiple files have RELIANCE in their name use specific file name***"
      ],
      "metadata": {
        "id": "eZFt5oUeb0mV"
      }
    },
    {
      "cell_type": "code",
      "source": [
        "#@title Default title text\n",
        "option = \"NIFTY\" #@param {type:\"string\"}\n",
        "option=\"\"\n",
        "for i in os.listdir(folder_path):\n",
        "    if os.path.isfile(os.path.join(folder_path,i)) and option in i:\n",
        "        file_path=os.path.join(folder_path,i)\n",
        "if file_path==\"\":\n",
        "    print(\"FILE DOES NOT EXIST PLEASE DOWNLOAD FILE OF STOCK.\") #in case the file is not present\n",
        "else:    \n",
        "    df = pd.read_csv(file_path)        \n",
        "    volume_profile=get_delivery_profile(df)\n",
        "    fig, ax1 = plt.subplots()\n",
        "    for index, row in volume_profile.iterrows():\n",
        "        ax1.axhspan(ymin=row[\"Lower Level\"],ymax=row[\"Upper Level\"],color=row[\"Color Code\"])\n",
        "    ax1.set_title('VOLUME PROFILE - '+option)\n",
        "    ax1.set_ylabel('Price')\n",
        "    ax1.set_yticks(volume_profile[\"Lower Level\"])\n",
        "    fig.set_size_inches(13,8)\n",
        "    plt.show()"
      ],
      "metadata": {
        "id": "ltLiAczsb0mX",
        "outputId": "b6efa603-673d-4ecc-d68b-0ce254eab4a5",
        "colab": {
          "base_uri": "https://localhost:8080/"
        }
      },
      "execution_count": null,
      "outputs": [
        {
          "output_type": "stream",
          "name": "stdout",
          "text": [
            "SPECIFY SYMBOL\n"
          ]
        }
      ]
    }
  ]
}